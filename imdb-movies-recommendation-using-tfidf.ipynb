{
 "cells": [
  {
   "cell_type": "code",
   "execution_count": 1,
   "id": "8196ee8a",
   "metadata": {
    "_cell_guid": "b1076dfc-b9ad-4769-8c92-a6c4dae69d19",
    "_uuid": "8f2839f25d086af736a60e9eeb907d3b93b6e0e5",
    "execution": {
     "iopub.execute_input": "2025-01-26T15:23:18.475130Z",
     "iopub.status.busy": "2025-01-26T15:23:18.474626Z",
     "iopub.status.idle": "2025-01-26T15:23:19.406459Z",
     "shell.execute_reply": "2025-01-26T15:23:19.405433Z"
    },
    "papermill": {
     "duration": 0.938486,
     "end_time": "2025-01-26T15:23:19.408401",
     "exception": false,
     "start_time": "2025-01-26T15:23:18.469915",
     "status": "completed"
    },
    "tags": []
   },
   "outputs": [],
   "source": [
    "# Importing pandas\n",
    "import pandas as pd"
   ]
  },
  {
   "cell_type": "code",
   "execution_count": 2,
   "id": "247ec1e9",
   "metadata": {
    "execution": {
     "iopub.execute_input": "2025-01-26T15:23:19.415850Z",
     "iopub.status.busy": "2025-01-26T15:23:19.415330Z",
     "iopub.status.idle": "2025-01-26T15:23:19.705452Z",
     "shell.execute_reply": "2025-01-26T15:23:19.704237Z"
    },
    "papermill": {
     "duration": 0.295688,
     "end_time": "2025-01-26T15:23:19.707381",
     "exception": false,
     "start_time": "2025-01-26T15:23:19.411693",
     "status": "completed"
    },
    "tags": []
   },
   "outputs": [
    {
     "data": {
      "text/html": [
       "<div>\n",
       "<style scoped>\n",
       "    .dataframe tbody tr th:only-of-type {\n",
       "        vertical-align: middle;\n",
       "    }\n",
       "\n",
       "    .dataframe tbody tr th {\n",
       "        vertical-align: top;\n",
       "    }\n",
       "\n",
       "    .dataframe thead th {\n",
       "        text-align: right;\n",
       "    }\n",
       "</style>\n",
       "<table border=\"1\" class=\"dataframe\">\n",
       "  <thead>\n",
       "    <tr style=\"text-align: right;\">\n",
       "      <th></th>\n",
       "      <th>names</th>\n",
       "      <th>date_x</th>\n",
       "      <th>score</th>\n",
       "      <th>genre</th>\n",
       "      <th>overview</th>\n",
       "      <th>crew</th>\n",
       "      <th>orig_title</th>\n",
       "      <th>status</th>\n",
       "      <th>orig_lang</th>\n",
       "      <th>budget_x</th>\n",
       "      <th>revenue</th>\n",
       "      <th>country</th>\n",
       "    </tr>\n",
       "  </thead>\n",
       "  <tbody>\n",
       "    <tr>\n",
       "      <th>0</th>\n",
       "      <td>Creed III</td>\n",
       "      <td>03/02/2023</td>\n",
       "      <td>73.0</td>\n",
       "      <td>Drama, Action</td>\n",
       "      <td>After dominating the boxing world, Adonis Cree...</td>\n",
       "      <td>Michael B. Jordan, Adonis Creed, Tessa Thompso...</td>\n",
       "      <td>Creed III</td>\n",
       "      <td>Released</td>\n",
       "      <td>English</td>\n",
       "      <td>75000000.0</td>\n",
       "      <td>2.716167e+08</td>\n",
       "      <td>AU</td>\n",
       "    </tr>\n",
       "    <tr>\n",
       "      <th>1</th>\n",
       "      <td>Avatar: The Way of Water</td>\n",
       "      <td>12/15/2022</td>\n",
       "      <td>78.0</td>\n",
       "      <td>Science Fiction, Adventure, Action</td>\n",
       "      <td>Set more than a decade after the events of the...</td>\n",
       "      <td>Sam Worthington, Jake Sully, Zoe Saldaña, Neyt...</td>\n",
       "      <td>Avatar: The Way of Water</td>\n",
       "      <td>Released</td>\n",
       "      <td>English</td>\n",
       "      <td>460000000.0</td>\n",
       "      <td>2.316795e+09</td>\n",
       "      <td>AU</td>\n",
       "    </tr>\n",
       "    <tr>\n",
       "      <th>2</th>\n",
       "      <td>The Super Mario Bros. Movie</td>\n",
       "      <td>04/05/2023</td>\n",
       "      <td>76.0</td>\n",
       "      <td>Animation, Adventure, Family, Fantasy, Comedy</td>\n",
       "      <td>While working underground to fix a water main,...</td>\n",
       "      <td>Chris Pratt, Mario (voice), Anya Taylor-Joy, P...</td>\n",
       "      <td>The Super Mario Bros. Movie</td>\n",
       "      <td>Released</td>\n",
       "      <td>English</td>\n",
       "      <td>100000000.0</td>\n",
       "      <td>7.244590e+08</td>\n",
       "      <td>AU</td>\n",
       "    </tr>\n",
       "    <tr>\n",
       "      <th>3</th>\n",
       "      <td>Mummies</td>\n",
       "      <td>01/05/2023</td>\n",
       "      <td>70.0</td>\n",
       "      <td>Animation, Comedy, Family, Adventure, Fantasy</td>\n",
       "      <td>Through a series of unfortunate events, three ...</td>\n",
       "      <td>Óscar Barberán, Thut (voice), Ana Esther Albor...</td>\n",
       "      <td>Momias</td>\n",
       "      <td>Released</td>\n",
       "      <td>Spanish, Castilian</td>\n",
       "      <td>12300000.0</td>\n",
       "      <td>3.420000e+07</td>\n",
       "      <td>AU</td>\n",
       "    </tr>\n",
       "    <tr>\n",
       "      <th>4</th>\n",
       "      <td>Supercell</td>\n",
       "      <td>03/17/2023</td>\n",
       "      <td>61.0</td>\n",
       "      <td>Action</td>\n",
       "      <td>Good-hearted teenager William always lived in ...</td>\n",
       "      <td>Skeet Ulrich, Roy Cameron, Anne Heche, Dr Quin...</td>\n",
       "      <td>Supercell</td>\n",
       "      <td>Released</td>\n",
       "      <td>English</td>\n",
       "      <td>77000000.0</td>\n",
       "      <td>3.409420e+08</td>\n",
       "      <td>US</td>\n",
       "    </tr>\n",
       "  </tbody>\n",
       "</table>\n",
       "</div>"
      ],
      "text/plain": [
       "                         names       date_x  score  \\\n",
       "0                    Creed III  03/02/2023    73.0   \n",
       "1     Avatar: The Way of Water  12/15/2022    78.0   \n",
       "2  The Super Mario Bros. Movie  04/05/2023    76.0   \n",
       "3                      Mummies  01/05/2023    70.0   \n",
       "4                    Supercell  03/17/2023    61.0   \n",
       "\n",
       "                                           genre  \\\n",
       "0                                  Drama, Action   \n",
       "1             Science Fiction, Adventure, Action   \n",
       "2  Animation, Adventure, Family, Fantasy, Comedy   \n",
       "3  Animation, Comedy, Family, Adventure, Fantasy   \n",
       "4                                         Action   \n",
       "\n",
       "                                            overview  \\\n",
       "0  After dominating the boxing world, Adonis Cree...   \n",
       "1  Set more than a decade after the events of the...   \n",
       "2  While working underground to fix a water main,...   \n",
       "3  Through a series of unfortunate events, three ...   \n",
       "4  Good-hearted teenager William always lived in ...   \n",
       "\n",
       "                                                crew  \\\n",
       "0  Michael B. Jordan, Adonis Creed, Tessa Thompso...   \n",
       "1  Sam Worthington, Jake Sully, Zoe Saldaña, Neyt...   \n",
       "2  Chris Pratt, Mario (voice), Anya Taylor-Joy, P...   \n",
       "3  Óscar Barberán, Thut (voice), Ana Esther Albor...   \n",
       "4  Skeet Ulrich, Roy Cameron, Anne Heche, Dr Quin...   \n",
       "\n",
       "                    orig_title     status            orig_lang     budget_x  \\\n",
       "0                    Creed III   Released              English   75000000.0   \n",
       "1     Avatar: The Way of Water   Released              English  460000000.0   \n",
       "2  The Super Mario Bros. Movie   Released              English  100000000.0   \n",
       "3                       Momias   Released   Spanish, Castilian   12300000.0   \n",
       "4                    Supercell   Released              English   77000000.0   \n",
       "\n",
       "        revenue country  \n",
       "0  2.716167e+08      AU  \n",
       "1  2.316795e+09      AU  \n",
       "2  7.244590e+08      AU  \n",
       "3  3.420000e+07      AU  \n",
       "4  3.409420e+08      US  "
      ]
     },
     "execution_count": 2,
     "metadata": {},
     "output_type": "execute_result"
    }
   ],
   "source": [
    "# Reading the Data\n",
    "data = pd.read_csv(\"/kaggle/input/imdb-movies-dataset/imdb_movies.csv\")\n",
    "data.head()"
   ]
  },
  {
   "cell_type": "code",
   "execution_count": 3,
   "id": "920f4e45",
   "metadata": {
    "execution": {
     "iopub.execute_input": "2025-01-26T15:23:19.716656Z",
     "iopub.status.busy": "2025-01-26T15:23:19.716315Z",
     "iopub.status.idle": "2025-01-26T15:23:21.662644Z",
     "shell.execute_reply": "2025-01-26T15:23:21.661514Z"
    },
    "papermill": {
     "duration": 1.953312,
     "end_time": "2025-01-26T15:23:21.664801",
     "exception": false,
     "start_time": "2025-01-26T15:23:19.711489",
     "status": "completed"
    },
    "tags": []
   },
   "outputs": [],
   "source": [
    "from sklearn.feature_extraction.text import TfidfVectorizer\n",
    "from sklearn.metrics.pairwise import cosine_similarity\n",
    "\n",
    "# Step 1: Preprocessing\n",
    "\n",
    "# TF-IDF Vectorization for overviews (text similarity)\n",
    "tfidf = TfidfVectorizer(stop_words='english')\n",
    "tfidf_matrix = tfidf.fit_transform(data['overview'])\n",
    "\n",
    "# Convert genres into a list of individual genres\n",
    "data['genre_list'] = data['genre'].str.split(', ')\n"
   ]
  },
  {
   "cell_type": "code",
   "execution_count": 4,
   "id": "8201c706",
   "metadata": {
    "execution": {
     "iopub.execute_input": "2025-01-26T15:23:21.672840Z",
     "iopub.status.busy": "2025-01-26T15:23:21.672348Z",
     "iopub.status.idle": "2025-01-26T15:23:21.678212Z",
     "shell.execute_reply": "2025-01-26T15:23:21.677159Z"
    },
    "papermill": {
     "duration": 0.011584,
     "end_time": "2025-01-26T15:23:21.679878",
     "exception": false,
     "start_time": "2025-01-26T15:23:21.668294",
     "status": "completed"
    },
    "tags": []
   },
   "outputs": [],
   "source": [
    "# Step 2: Calculate Similarity for Similar Movies (by Overview and Genre)\n",
    "# Create a function to recommend similar movies\n",
    "def get_similar_movies(movie_name, top_n=5):\n",
    "    movie_idx = data[data['names'] == movie_name].index[0]\n",
    "    \n",
    "    # Compute cosine similarity between the movie overview vectors\n",
    "    cosine_sim = cosine_similarity(tfidf_matrix[movie_idx], tfidf_matrix)\n",
    "    \n",
    "    # Combine the score with similarity for more balanced recommendations\n",
    "    data['similarity'] = cosine_sim.flatten()\n",
    "    \n",
    "    # Sort by similarity score and return the top N similar movies\n",
    "    similar_movies = data[['names', 'genre', 'score', 'similarity']].sort_values(by='similarity', ascending=False)\n",
    "    \n",
    "    # Exclude the original movie itself\n",
    "    similar_movies = similar_movies[similar_movies['names'] != movie_name]\n",
    "    \n",
    "    return similar_movies.head(top_n)"
   ]
  },
  {
   "cell_type": "code",
   "execution_count": 5,
   "id": "d0b700ef",
   "metadata": {
    "execution": {
     "iopub.execute_input": "2025-01-26T15:23:21.688891Z",
     "iopub.status.busy": "2025-01-26T15:23:21.688307Z",
     "iopub.status.idle": "2025-01-26T15:23:21.729056Z",
     "shell.execute_reply": "2025-01-26T15:23:21.727668Z"
    },
    "papermill": {
     "duration": 0.048397,
     "end_time": "2025-01-26T15:23:21.731402",
     "exception": false,
     "start_time": "2025-01-26T15:23:21.683005",
     "status": "completed"
    },
    "tags": []
   },
   "outputs": [
    {
     "name": "stdout",
     "output_type": "stream",
     "text": [
      "                             names                      genre  score  \\\n",
      "114                       Creed II                      Drama   70.0   \n",
      "115                          Creed                      Drama   74.0   \n",
      "8394               Damien: Omen II           Horror, Thriller   64.0   \n",
      "9093  Omen III: The Final Conflict  Horror, Mystery, Thriller   58.0   \n",
      "3992                Brick Mansions       Action, Crime, Drama   59.0   \n",
      "\n",
      "      similarity  \n",
      "114     0.255926  \n",
      "115     0.202163  \n",
      "8394    0.198801  \n",
      "9093    0.146674  \n",
      "3992    0.139299  \n"
     ]
    }
   ],
   "source": [
    "# Example: Get Similar Movies for \"Creed III\"\n",
    "similar_movies = get_similar_movies(\"Creed III\")\n",
    "print(similar_movies[['names', 'genre', 'score', 'similarity']])"
   ]
  },
  {
   "cell_type": "code",
   "execution_count": 6,
   "id": "4efef103",
   "metadata": {
    "execution": {
     "iopub.execute_input": "2025-01-26T15:23:21.740297Z",
     "iopub.status.busy": "2025-01-26T15:23:21.739860Z",
     "iopub.status.idle": "2025-01-26T15:23:21.746560Z",
     "shell.execute_reply": "2025-01-26T15:23:21.745166Z"
    },
    "papermill": {
     "duration": 0.014009,
     "end_time": "2025-01-26T15:23:21.749123",
     "exception": false,
     "start_time": "2025-01-26T15:23:21.735114",
     "status": "completed"
    },
    "tags": []
   },
   "outputs": [],
   "source": [
    "# Step 3: Genre-Based Recommendations\n",
    "# Function to get movies based on a preferred genre\n",
    "def get_genre_recommendations(genre, top_n=5):\n",
    "    # Handle NaN values in the 'genre' column by replacing them with an empty string\n",
    "    data['genre'] = data['genre'].fillna('')\n",
    "\n",
    "    # Filter movies by genre\n",
    "    genre_movies = data[data['genre'].str.contains(genre, case=False)]\n",
    "    \n",
    "    # Sort by score or revenue (you can choose whichever you prefer)\n",
    "    genre_movies = genre_movies.sort_values(by='score', ascending=False)  # Or use 'revenue'\n",
    "    \n",
    "    # Return top N recommendations\n",
    "    return genre_movies[['names', 'genre', 'score']].head(top_n)\n"
   ]
  },
  {
   "cell_type": "code",
   "execution_count": 7,
   "id": "d0191f70",
   "metadata": {
    "execution": {
     "iopub.execute_input": "2025-01-26T15:23:21.760216Z",
     "iopub.status.busy": "2025-01-26T15:23:21.759817Z",
     "iopub.status.idle": "2025-01-26T15:23:21.780150Z",
     "shell.execute_reply": "2025-01-26T15:23:21.779060Z"
    },
    "papermill": {
     "duration": 0.026229,
     "end_time": "2025-01-26T15:23:21.781911",
     "exception": false,
     "start_time": "2025-01-26T15:23:21.755682",
     "status": "completed"
    },
    "tags": []
   },
   "outputs": [
    {
     "name": "stdout",
     "output_type": "stream",
     "text": [
      "                                              names  \\\n",
      "3886                   WWE WrestleMania 39 Saturday   \n",
      "591                                 The Dark Knight   \n",
      "577   The Lord of the Rings: The Return of the King   \n",
      "4855                      Primal: Tales of Savagery   \n",
      "3681                                  Seven Samurai   \n",
      "\n",
      "                                    genre  score  \n",
      "3886                       Action, Family   85.0  \n",
      "591        Drama, Action, Crime, Thriller   85.0  \n",
      "577            Adventure, Fantasy, Action   85.0  \n",
      "4855  Action, Adventure, Animation, Drama   85.0  \n",
      "3681                        Action, Drama   85.0  \n"
     ]
    }
   ],
   "source": [
    "# Example: Get Action Movies\n",
    "action_movies = get_genre_recommendations(\"Action\")\n",
    "print(action_movies)"
   ]
  },
  {
   "cell_type": "code",
   "execution_count": 8,
   "id": "c8c7a87f",
   "metadata": {
    "execution": {
     "iopub.execute_input": "2025-01-26T15:23:21.789495Z",
     "iopub.status.busy": "2025-01-26T15:23:21.789149Z",
     "iopub.status.idle": "2025-01-26T15:23:21.794516Z",
     "shell.execute_reply": "2025-01-26T15:23:21.793376Z"
    },
    "papermill": {
     "duration": 0.010878,
     "end_time": "2025-01-26T15:23:21.796078",
     "exception": false,
     "start_time": "2025-01-26T15:23:21.785200",
     "status": "completed"
    },
    "tags": []
   },
   "outputs": [],
   "source": [
    "# Step 4: Trending Movies (by Score or Revenue)\n",
    "# Function to get top trending movies based on score or revenue\n",
    "def get_trending_movies(by='score', top_n=5):\n",
    "    if by == 'score':\n",
    "        trending_movies = data.sort_values(by='score', ascending=False)\n",
    "    elif by == 'revenue':\n",
    "        trending_movies = data.sort_values(by='revenue', ascending=False)\n",
    "    else:\n",
    "        raise ValueError(\"Invalid argument. Use 'score' or 'revenue'.\")\n",
    "    \n",
    "    return trending_movies[['names', 'score', 'revenue']].head(top_n)"
   ]
  },
  {
   "cell_type": "code",
   "execution_count": 9,
   "id": "d6b82b6e",
   "metadata": {
    "execution": {
     "iopub.execute_input": "2025-01-26T15:23:21.803387Z",
     "iopub.status.busy": "2025-01-26T15:23:21.803007Z",
     "iopub.status.idle": "2025-01-26T15:23:21.816901Z",
     "shell.execute_reply": "2025-01-26T15:23:21.815707Z"
    },
    "papermill": {
     "duration": 0.019279,
     "end_time": "2025-01-26T15:23:21.818582",
     "exception": false,
     "start_time": "2025-01-26T15:23:21.799303",
     "status": "completed"
    },
    "tags": []
   },
   "outputs": [
    {
     "name": "stdout",
     "output_type": "stream",
     "text": [
      "                                   names  score       revenue\n",
      "10046                           Simulant  100.0  1.569324e+09\n",
      "6433        Furin, hentai, monmon chômon  100.0  1.569324e+09\n",
      "4887               Pretty Young Sister 4  100.0  1.569324e+09\n",
      "277                     Orgasm Lecture 2  100.0  1.569324e+09\n",
      "1776   Porno document: Toruko tokkyû bin  100.0  1.569324e+09\n"
     ]
    }
   ],
   "source": [
    "# Example: Get Trending Movies by Score\n",
    "trending_movies = get_trending_movies(by='score')\n",
    "print(trending_movies)"
   ]
  }
 ],
 "metadata": {
  "kaggle": {
   "accelerator": "none",
   "dataSources": [
    {
     "datasetId": 3198793,
     "sourceId": 5552662,
     "sourceType": "datasetVersion"
    }
   ],
   "dockerImageVersionId": 30839,
   "isGpuEnabled": false,
   "isInternetEnabled": true,
   "language": "python",
   "sourceType": "notebook"
  },
  "kernelspec": {
   "display_name": "Python 3",
   "language": "python",
   "name": "python3"
  },
  "language_info": {
   "codemirror_mode": {
    "name": "ipython",
    "version": 3
   },
   "file_extension": ".py",
   "mimetype": "text/x-python",
   "name": "python",
   "nbconvert_exporter": "python",
   "pygments_lexer": "ipython3",
   "version": "3.10.12"
  },
  "papermill": {
   "default_parameters": {},
   "duration": 7.378983,
   "end_time": "2025-01-26T15:23:22.541329",
   "environment_variables": {},
   "exception": null,
   "input_path": "__notebook__.ipynb",
   "output_path": "__notebook__.ipynb",
   "parameters": {},
   "start_time": "2025-01-26T15:23:15.162346",
   "version": "2.6.0"
  }
 },
 "nbformat": 4,
 "nbformat_minor": 5
}
